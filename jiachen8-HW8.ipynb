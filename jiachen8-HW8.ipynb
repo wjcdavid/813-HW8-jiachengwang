{
 "cells": [
  {
   "cell_type": "code",
   "execution_count": 2,
   "id": "016f8682",
   "metadata": {},
   "outputs": [
    {
     "name": "stdout",
     "output_type": "stream",
     "text": [
      "1.12.1\n"
     ]
    }
   ],
   "source": [
    "import torch  # now import the tensorflow module\n",
    "from torch import nn\n",
    "import numpy as np \n",
    "print(torch.__version__)  # check the version"
   ]
  },
  {
   "cell_type": "markdown",
   "id": "fcf360bc",
   "metadata": {},
   "source": [
    "## Q1"
   ]
  },
  {
   "cell_type": "code",
   "execution_count": 3,
   "id": "3cbdcabb",
   "metadata": {},
   "outputs": [],
   "source": [
    "import pyspark\n",
    "from pyspark.sql import SparkSession, SQLContext\n",
    "from pyspark.ml import Pipeline,Transformer\n",
    "from pyspark.ml.feature import Imputer,StandardScaler,StringIndexer,OneHotEncoder, VectorAssembler\n",
    "\n",
    "from pyspark.sql.functions import *\n",
    "from pyspark.sql.types import *\n",
    "import numpy as np\n",
    "\n",
    "col_names = [\"duration\",\"protocol_type\",\"service\",\"flag\",\"src_bytes\",\n",
    "\"dst_bytes\",\"land\",\"wrong_fragment\",\"urgent\",\"hot\",\"num_failed_logins\",\n",
    "\"logged_in\",\"num_compromised\",\"root_shell\",\"su_attempted\",\"num_root\",\n",
    "\"num_file_creations\",\"num_shells\",\"num_access_files\",\"num_outbound_cmds\",\n",
    "\"is_host_login\",\"is_guest_login\",\"count\",\"srv_count\",\"serror_rate\",\n",
    "\"srv_serror_rate\",\"rerror_rate\",\"srv_rerror_rate\",\"same_srv_rate\",\n",
    "\"diff_srv_rate\",\"srv_diff_host_rate\",\"dst_host_count\",\"dst_host_srv_count\",\n",
    "\"dst_host_same_srv_rate\",\"dst_host_diff_srv_rate\",\"dst_host_same_src_port_rate\",\n",
    "\"dst_host_srv_diff_host_rate\",\"dst_host_serror_rate\",\"dst_host_srv_serror_rate\",\n",
    "\"dst_host_rerror_rate\",\"dst_host_srv_rerror_rate\",\"class\",\"difficulty\"]\n",
    "\n",
    "nominal_cols = ['protocol_type','service','flag']\n",
    "binary_cols = ['land', 'logged_in', 'root_shell', 'su_attempted', 'is_host_login',\n",
    "'is_guest_login']\n",
    "continuous_cols = ['duration' ,'src_bytes', 'dst_bytes', 'wrong_fragment' ,'urgent', 'hot',\n",
    "'num_failed_logins', 'num_compromised', 'num_root' ,'num_file_creations',\n",
    "'num_shells', 'num_access_files', 'num_outbound_cmds', 'count' ,'srv_count',\n",
    "'serror_rate', 'srv_serror_rate' ,'rerror_rate' ,'srv_rerror_rate',\n",
    "'same_srv_rate', 'diff_srv_rate', 'srv_diff_host_rate' ,'dst_host_count',\n",
    "'dst_host_srv_count' ,'dst_host_same_srv_rate' ,'dst_host_diff_srv_rate',\n",
    "'dst_host_same_src_port_rate' ,'dst_host_srv_diff_host_rate',\n",
    "'dst_host_serror_rate' ,'dst_host_srv_serror_rate', 'dst_host_rerror_rate',\n",
    "'dst_host_srv_rerror_rate']\n",
    "\n",
    "\n",
    "DoS=['apache2','back','land','neptune','mailbomb','pod','processtable','smurf','teardrop','udpstorm','worm']\n",
    "Probe=['ipsweep','mscan','nmap','portsweep','saint','satan']\n",
    "U2R = ['buffer_overflow','loadmodule','perl','ps','rootkit','sqlattack','xterm']\n",
    "R2L = ['ftp_write','guess_passwd','httptunnel','imap','multihop','named','phf','sendmail','Snmpgetattack','spy',\n",
    "      'snmpguess','warezclient','warezmaster','xlock','xsnoop']\n",
    "\n",
    "\n",
    "class OutcomeCreater(Transformer): # this defines a transformer that creates the outcome column\n",
    "    \n",
    "    def __init__(self):\n",
    "        super().__init__()\n",
    "\n",
    "    def _transform(self, dataset):\n",
    "        label_to_binary = udf(lambda name: 0.0 if name == 'normal' else 1.0 if name in DoS else 2.0 if name in Probe\n",
    "                             else 3.0 if name in U2R else 4.0)\n",
    "        output_df = dataset.withColumn('outcome', label_to_binary(col('class'))).drop(\"class\")  \n",
    "        output_df = output_df.withColumn('outcome', col('outcome').cast(DoubleType()))\n",
    "        output_df = output_df.drop('difficulty')\n",
    "        return output_df\n",
    "\n",
    "class FeatureTypeCaster(Transformer): # this transformer will cast the columns as appropriate types  \n",
    "    def __init__(self):\n",
    "        super().__init__()\n",
    "\n",
    "    def _transform(self, dataset):\n",
    "        output_df = dataset\n",
    "        for col_name in binary_cols + continuous_cols:\n",
    "            output_df = output_df.withColumn(col_name,col(col_name).cast(DoubleType()))\n",
    "\n",
    "        return output_df\n",
    "class ColumnDropper(Transformer): # this transformer drops unnecessary columns\n",
    "    def __init__(self, columns_to_drop = None):\n",
    "        super().__init__()\n",
    "        self.columns_to_drop=columns_to_drop\n",
    "    def _transform(self, dataset):\n",
    "        output_df = dataset\n",
    "        for col_name in self.columns_to_drop:\n",
    "            output_df = output_df.drop(col_name)\n",
    "        return output_df\n",
    "\n",
    "def get_preprocess_pipeline():\n",
    "    # Stage where columns are casted as appropriate types\n",
    "    stage_typecaster = FeatureTypeCaster()\n",
    "\n",
    "    # Stage where nominal columns are transformed to index columns using StringIndexer\n",
    "    nominal_id_cols = [x+\"_index\" for x in nominal_cols]\n",
    "    nominal_onehot_cols = [x+\"_encoded\" for x in nominal_cols]\n",
    "    stage_nominal_indexer = StringIndexer(inputCols = nominal_cols, outputCols = nominal_id_cols )\n",
    "\n",
    "    # Stage where the index columns are further transformed using OneHotEncoder\n",
    "    stage_nominal_onehot_encoder = OneHotEncoder(inputCols=nominal_id_cols, outputCols=nominal_onehot_cols)\n",
    "\n",
    "    # Stage where all relevant features are assembled into a vector (and dropping a few)\n",
    "    feature_cols = continuous_cols+binary_cols+nominal_onehot_cols\n",
    "    corelated_cols_to_remove = [\"dst_host_serror_rate\",\"srv_serror_rate\",\"dst_host_srv_serror_rate\",\n",
    "                     \"srv_rerror_rate\",\"dst_host_rerror_rate\",\"dst_host_srv_rerror_rate\"]\n",
    "    for col_name in corelated_cols_to_remove:\n",
    "        feature_cols.remove(col_name)\n",
    "    stage_vector_assembler = VectorAssembler(inputCols=feature_cols, outputCol=\"vectorized_features\")\n",
    "\n",
    "    # Stage where we scale the columns\n",
    "    stage_scaler = StandardScaler(inputCol= 'vectorized_features', outputCol= 'features')\n",
    "    \n",
    "\n",
    "    # Stage for creating the outcome column representing whether there is attack \n",
    "    stage_outcome = OutcomeCreater()\n",
    "\n",
    "    # Removing all unnecessary columbs, only keeping the 'features' and 'outcome' columns\n",
    "    stage_column_dropper = ColumnDropper(columns_to_drop = nominal_cols+nominal_id_cols+\n",
    "        nominal_onehot_cols+ binary_cols + continuous_cols + ['vectorized_features'])\n",
    "    # Connect the columns into a pipeline\n",
    "    pipeline = Pipeline(stages=[stage_typecaster,stage_nominal_indexer,stage_nominal_onehot_encoder,\n",
    "        stage_vector_assembler,stage_scaler,stage_outcome,stage_column_dropper])\n",
    "    return pipeline \n"
   ]
  },
  {
   "cell_type": "code",
   "execution_count": 4,
   "id": "45aa1928",
   "metadata": {},
   "outputs": [
    {
     "name": "stderr",
     "output_type": "stream",
     "text": [
      "Setting default log level to \"WARN\".\n",
      "To adjust logging level use sc.setLogLevel(newLevel). For SparkR, use setLogLevel(newLevel).\n"
     ]
    },
    {
     "name": "stdout",
     "output_type": "stream",
     "text": [
      "22/11/16 17:18:35 WARN NativeCodeLoader: Unable to load native-hadoop library for your platform... using builtin-java classes where applicable\n"
     ]
    },
    {
     "name": "stderr",
     "output_type": "stream",
     "text": [
      "                                                                                \r"
     ]
    },
    {
     "name": "stdout",
     "output_type": "stream",
     "text": [
      "22/11/16 17:18:43 WARN package: Truncated the string representation of a plan since it was too large. This behavior can be adjusted by setting 'spark.sql.debug.maxToStringFields'.\n"
     ]
    },
    {
     "name": "stderr",
     "output_type": "stream",
     "text": [
      "                                                                                \r"
     ]
    }
   ],
   "source": [
    "spark = SparkSession.builder \\\n",
    "    .master(\"local[*]\") \\\n",
    "    .appName(\"GenericAppName\") \\\n",
    "    .getOrCreate()\n",
    "\n",
    "nslkdd_raw = spark.read.csv('./KDDTrain+.txt',header=False).toDF(*col_names)\n",
    "nslkdd_test_raw = spark.read.csv('./KDDTest+.txt',header=False).toDF(*col_names)\n",
    "preprocess_pipeline = get_preprocess_pipeline()\n",
    "preprocess_pipeline_model = preprocess_pipeline.fit(nslkdd_raw)\n",
    "\n",
    "nslkdd_df = preprocess_pipeline_model.transform(nslkdd_raw)\n",
    "nslkdd_df_test = preprocess_pipeline_model.transform(nslkdd_test_raw)\n"
   ]
  },
  {
   "cell_type": "code",
   "execution_count": 5,
   "id": "a735ac17",
   "metadata": {},
   "outputs": [],
   "source": [
    "to_array = udf(lambda v: v.toArray().tolist(), ArrayType(FloatType()))\n",
    "\n",
    "nslkdd_df_train = nslkdd_df \n",
    "nslkdd_df_validate,nslkdd_df_test = nslkdd_df_test.randomSplit([0.5,0.5])"
   ]
  },
  {
   "cell_type": "code",
   "execution_count": 6,
   "id": "1b19f223",
   "metadata": {},
   "outputs": [
    {
     "name": "stderr",
     "output_type": "stream",
     "text": [
      "                                                                                \r"
     ]
    }
   ],
   "source": [
    "nslkdd_df_train_pandas = nslkdd_df_train.withColumn('features', to_array('features')).toPandas()\n",
    "nslkdd_df_validate_pandas = nslkdd_df_validate.withColumn('features', to_array('features')).toPandas()\n",
    "nslkdd_df_test_pandas = nslkdd_df_test.withColumn('features', to_array('features')).toPandas()"
   ]
  },
  {
   "cell_type": "code",
   "execution_count": 7,
   "id": "0cf0955b",
   "metadata": {},
   "outputs": [],
   "source": [
    "from torch.utils.data import Dataset, DataLoader\n",
    "\n",
    "x_train = torch.from_numpy(np.array(nslkdd_df_train_pandas['features'].values.tolist(),np.float32))\n",
    "y_train = torch.from_numpy(np.array(nslkdd_df_train_pandas['outcome'].values.tolist(),np.int64))\n",
    "\n",
    "x_validate = torch.from_numpy(np.array(nslkdd_df_validate_pandas['features'].values.tolist(),np.float32))\n",
    "y_validate = torch.from_numpy(np.array(nslkdd_df_validate_pandas['outcome'].values.tolist(),np.int64))\n",
    "\n",
    "x_test = torch.from_numpy(np.array(nslkdd_df_test_pandas['features'].values.tolist(),np.float32))\n",
    "y_test = torch.from_numpy(np.array(nslkdd_df_test_pandas['outcome'].values.tolist(),np.int64))"
   ]
  },
  {
   "cell_type": "code",
   "execution_count": 8,
   "id": "5d5de2f4",
   "metadata": {},
   "outputs": [],
   "source": [
    "# Defining MyDataset Class\n",
    "class MyDataset(Dataset): \n",
    "    def __init__(self,x,y):\n",
    "        self.x = x\n",
    "        self.y = y\n",
    "\n",
    "    def __len__(self):\n",
    "        return self.x.shape[0]\n",
    "\n",
    "    def __getitem__(self, idx):\n",
    "        return (self.x[idx],self.y[idx])\n",
    "\n",
    "# Turning the data from tensors to datasets\n",
    "train_dataset = MyDataset(x_train,y_train)\n",
    "validate_dataset = MyDataset(x_validate,y_validate)\n",
    "test_dataset = MyDataset(x_test,y_test)"
   ]
  },
  {
   "cell_type": "markdown",
   "id": "6ae4d51b",
   "metadata": {},
   "source": [
    "## Q2"
   ]
  },
  {
   "cell_type": "code",
   "execution_count": 9,
   "id": "b646f20b",
   "metadata": {},
   "outputs": [
    {
     "name": "stdout",
     "output_type": "stream",
     "text": [
      "myMultiLayerPerceptron(\n",
      "  (sequential): Sequential(\n",
      "    (0): Linear(in_features=113, out_features=20, bias=True)\n",
      "    (1): ReLU()\n",
      "    (2): Linear(in_features=20, out_features=20, bias=True)\n",
      "    (3): ReLU()\n",
      "    (4): Linear(in_features=20, out_features=20, bias=True)\n",
      "    (5): ReLU()\n",
      "    (6): Linear(in_features=20, out_features=5, bias=True)\n",
      "  )\n",
      ")\n"
     ]
    }
   ],
   "source": [
    "from torch import nn\n",
    "\n",
    "# Example: using Sequential in Pytorch\n",
    "\n",
    "class myMultiLayerPerceptron(nn.Module):\n",
    "    def __init__(self,input_dim,output_dim):\n",
    "        super().__init__()\n",
    "        self.sequential = nn.Sequential(  # here we stack multiple layers together\n",
    "            nn.Linear(input_dim,20),\n",
    "            nn.ReLU(),\n",
    "            nn.Linear(20,20),\n",
    "            nn.ReLU(),\n",
    "            nn.Linear(20,20),\n",
    "            nn.ReLU(),\n",
    "            nn.Linear(20,output_dim)\n",
    "        )\n",
    "    def forward(self,x):\n",
    "        y = self.sequential(x)\n",
    "        return y\n",
    "    \n",
    "# Let's check out our model \n",
    "\n",
    "mymodel = myMultiLayerPerceptron(113,5) # 5 = number of classes \n",
    "\n",
    "print(mymodel)"
   ]
  },
  {
   "cell_type": "code",
   "execution_count": 10,
   "id": "b70cc396",
   "metadata": {},
   "outputs": [
    {
     "data": {
      "text/plain": [
       "113"
      ]
     },
     "execution_count": 10,
     "metadata": {},
     "output_type": "execute_result"
    }
   ],
   "source": [
    "x_train.shape[1]"
   ]
  },
  {
   "cell_type": "markdown",
   "id": "9e004bae",
   "metadata": {},
   "source": [
    "## Q3"
   ]
  },
  {
   "cell_type": "code",
   "execution_count": 11,
   "id": "df59707e",
   "metadata": {},
   "outputs": [
    {
     "name": "stdout",
     "output_type": "stream",
     "text": [
      "Epoch = 0,train_loss=0.07523807138204575,validate_loss=2.1963398456573486\n",
      "Train accuracy = 97.65%, validate accuracy = 74.58% \n",
      "Current epoch is the best so far. Saving model...\n",
      "Epoch = 1,train_loss=0.032041504979133606,validate_loss=1.9377758502960205\n",
      "Train accuracy = 98.97%, validate accuracy = 75.59% \n",
      "Current epoch is the best so far. Saving model...\n",
      "Epoch = 2,train_loss=0.02714543603360653,validate_loss=2.5595076084136963\n",
      "Train accuracy = 99.1%, validate accuracy = 75.04% \n",
      "Epoch = 3,train_loss=0.02520858868956566,validate_loss=2.3195908069610596\n",
      "Train accuracy = 99.18%, validate accuracy = 78.39% \n",
      "Current epoch is the best so far. Saving model...\n",
      "Epoch = 4,train_loss=0.02364867925643921,validate_loss=2.871175527572632\n",
      "Train accuracy = 99.23%, validate accuracy = 76.55% \n",
      "Epoch = 5,train_loss=0.022832045331597328,validate_loss=3.3104116916656494\n",
      "Train accuracy = 99.27%, validate accuracy = 75.17% \n",
      "Epoch = 6,train_loss=0.02134726755321026,validate_loss=2.7860379219055176\n",
      "Train accuracy = 99.28%, validate accuracy = 75.69% \n",
      "Epoch = 7,train_loss=0.020343918353319168,validate_loss=2.4602620601654053\n",
      "Train accuracy = 99.34%, validate accuracy = 76.39% \n",
      "Epoch = 8,train_loss=0.01961529068648815,validate_loss=3.2058961391448975\n",
      "Train accuracy = 99.38%, validate accuracy = 77.65% \n",
      "Epoch = 9,train_loss=0.01818343997001648,validate_loss=2.7432360649108887\n",
      "Train accuracy = 99.38%, validate accuracy = 76.06% \n"
     ]
    }
   ],
   "source": [
    "mymodel = myMultiLayerPerceptron(113,5) \n",
    "\n",
    "\n",
    "lr = .005\n",
    "batch_size = 64\n",
    "N_epochs = 10\n",
    "\n",
    "\n",
    "loss_fun = nn.CrossEntropyLoss()\n",
    "\n",
    "\n",
    "train_dataloader = DataLoader(train_dataset, batch_size = batch_size, shuffle = True)\n",
    "validate_dataloader = DataLoader(validate_dataset,batch_size = batch_size,shuffle = True)\n",
    "\n",
    "\n",
    "optimizer = torch.optim.Adam(mymodel.parameters(), lr = lr) \n",
    "\n",
    "n = 0\n",
    "losses_SGD = []\n",
    "losses = [] # training losses of each epoch\n",
    "accuracies = [] # training accuracies of each epoch\n",
    "\n",
    "validate_losses = [] # validation losses of each epoch\n",
    "validate_accuracies = [] # validation accuracies of each epoch\n",
    "\n",
    "current_best_accuracy = 0.0\n",
    "\n",
    "for epoch in range(N_epochs):\n",
    "    # Train loop\n",
    "    batch_loss = [] \n",
    "    batch_accuracy = [] \n",
    "    for x_batch, y_batch in train_dataloader:\n",
    "      \n",
    "        prediction_score = mymodel(x_batch)  \n",
    "        loss = loss_fun(prediction_score,y_batch)\n",
    "\n",
    "        optimizer.zero_grad()\n",
    "        loss.backward()\n",
    "\n",
    "        optimizer.step()\n",
    "\n",
    "        batch_loss.append(loss.detach().numpy()) \n",
    "        prediction_label = torch.argmax(prediction_score.detach(),dim=1).numpy()\n",
    "        batch_accuracy.append( np.sum(prediction_label == y_batch.numpy())/x_batch.shape[0]) \n",
    "        losses_SGD.append(loss.detach())\n",
    "        n+=1\n",
    "    \n",
    "    validate_batch_loss = [] \n",
    "    validate_batch_accuracy = [] \n",
    "    for x_batch, y_batch in validate_dataloader:\n",
    "\n",
    "        prediction_score = mymodel(x_batch)\n",
    "        loss = loss_fun(prediction_score,y_batch)\n",
    "\n",
    "        validate_batch_loss.append(loss.detach())\n",
    "\n",
    "        prediction_label = torch.argmax(prediction_score.detach(),dim=1).numpy()\n",
    "        validate_batch_accuracy.append( np.sum(prediction_label == y_batch.numpy())/x_batch.shape[0]) \n",
    "    \n",
    "    \n",
    "    losses.append(np.mean(np.array(batch_loss)))\n",
    "    validate_losses.append( np.mean(np.array(validate_batch_loss)))\n",
    "    accuracies.append(np.mean(np.array(batch_accuracy)))\n",
    "    validate_accuracies.append(np.mean(np.array(validate_batch_accuracy)))\n",
    "\n",
    "    print(f\"Epoch = {epoch},train_loss={losses[-1]},validate_loss={validate_losses[-1]}\")\n",
    "    print(f\"Train accuracy = {np.round(accuracies[-1]*100,2)}%, validate accuracy = {np.round(validate_accuracies[-1]*100,2)}% \")\n",
    " \n",
    "    if validate_accuracies[-1]>current_best_accuracy:\n",
    "        print(\"Current epoch is the best so far. Saving model...\") \n",
    "        torch.save(mymodel.state_dict(),'current_best_model')\n",
    "        current_best_accuracy = validate_accuracies[-1]\n",
    "\n"
   ]
  },
  {
   "cell_type": "code",
   "execution_count": null,
   "id": "5fe447ed",
   "metadata": {},
   "outputs": [],
   "source": []
  },
  {
   "cell_type": "code",
   "execution_count": 12,
   "id": "d1db2810",
   "metadata": {},
   "outputs": [
    {
     "data": {
      "image/png": "[encoded data removed]",
      "text/plain": [
       "<Figure size 432x288 with 1 Axes>"
      ]
     },
     "metadata": {
      "needs_background": "light"
     },
     "output_type": "display_data"
    }
   ],
   "source": [
    "# Plot train loss per SGD iteration\n",
    "from matplotlib import pyplot as plt\n",
    "losses_SGD_overall = []\n",
    "for i in losses_SGD:\n",
    "    losses_SGD_overall.append(i.item())\n",
    "plt.plot(range(n),losses_SGD_overall,label='Validate Loss')\n",
    "plt.xlabel(\"SGD iteration\")\n",
    "plt.ylabel(\"Loss\")\n",
    "plt.show()"
   ]
  },
  {
   "cell_type": "code",
   "execution_count": 13,
   "id": "6abfab7b",
   "metadata": {},
   "outputs": [
    {
     "data": {
      "text/plain": [
       "<matplotlib.legend.Legend at 0x7fa126b6b700>"
      ]
     },
     "execution_count": 13,
     "metadata": {},
     "output_type": "execute_result"
    },
    {
     "data": {
      "image/png": "[encoded data removed]",
      "text/plain": [
       "<Figure size 432x288 with 2 Axes>"
      ]
     },
     "metadata": {
      "needs_background": "light"
     },
     "output_type": "display_data"
    }
   ],
   "source": [
    "# Plot train/validate loss and metrics across different epochs\n",
    "fig,axes = plt.subplots(nrows=1,ncols=2)\n",
    "\n",
    "axes[0].plot(range(N_epochs),losses,label='Train Loss')\n",
    "axes[0].plot(range(N_epochs),validate_losses,label='Validate Loss')\n",
    "axes[0].set_xlabel(\"Epochs\")\n",
    "axes[0].set_ylabel(\"Loss\")\n",
    "axes[0].legend()\n",
    "\n",
    "axes[1].plot(range(N_epochs),accuracies,label='Train Accuracy')\n",
    "axes[1].plot(range(N_epochs),validate_accuracies,label='Validate Accuracy')\n",
    "axes[1].set_xlabel(\"Epochs\")\n",
    "axes[1].set_ylabel(\"Accuracy\")\n",
    "axes[1].legend()"
   ]
  },
  {
   "cell_type": "markdown",
   "id": "b85dd5cf",
   "metadata": {},
   "source": [
    "## Q4"
   ]
  },
  {
   "cell_type": "code",
   "execution_count": 20,
   "id": "2104c937",
   "metadata": {},
   "outputs": [],
   "source": [
    "def training(lr_input, batch_size_input, N_epochs_input):\n",
    "    mymodel = myMultiLayerPerceptron(113,5)\n",
    "    lr = lr_input\n",
    "    batch_size = batch_size_input\n",
    "    N_epochs = N_epochs_input\n",
    "\n",
    "    # Create loss function\n",
    "    loss_fun = nn.CrossEntropyLoss()\n",
    "\n",
    "    # Create dataloaders for training and validation\n",
    "    train_dataloader = DataLoader(train_dataset, batch_size = batch_size, shuffle = True)\n",
    "    validate_dataloader = DataLoader(validate_dataset,batch_size = batch_size,shuffle = True)\n",
    "\n",
    "    # Create optimizer\n",
    "    optimizer = torch.optim.Adam(mymodel.parameters(), lr = lr) # this line creates a optimizer, and we tell optimizer we are optimizing the parameters in mymodel\n",
    "\n",
    "    n = 0\n",
    "    losses_SGD = []\n",
    "    losses = [] # training losses of each epoch\n",
    "    accuracies = [] # training accuracies of each epoch\n",
    "\n",
    "    validate_losses = [] # validation losses of each epoch\n",
    "    validate_accuracies = [] # validation accuracies of each epoch\n",
    "\n",
    "    current_best_accuracy = 0.0\n",
    "\n",
    "    for epoch in range(N_epochs):\n",
    "        # Train loop\n",
    "        batch_loss = [] # keep a list of losses for different batches in this epoch\n",
    "        batch_accuracy = [] # keep a list of accuracies for different batches in this epoch\n",
    "        for x_batch, y_batch in train_dataloader:\n",
    "            # pass input data to get the prediction outputs by the current model\n",
    "            prediction_score = mymodel(x_batch)  \n",
    "\n",
    "\n",
    "            # compute the cross entropy loss. Note that the first input to the loss_func should be the predicted scores (not probabilities), and the second input should be class labels as integers\n",
    "            loss = loss_fun(prediction_score,y_batch)\n",
    "\n",
    "            # compute the gradient\n",
    "            optimizer.zero_grad()\n",
    "            loss.backward()\n",
    "\n",
    "            # update parameters with optimizer step\n",
    "            optimizer.step()\n",
    "\n",
    "            # append the loss of this batch to the batch_loss list\n",
    "            batch_loss.append(loss.detach().numpy())\n",
    "            # You can also compute other metrics (accuracy) for this batch here \n",
    "            prediction_label = torch.argmax(prediction_score.detach(),dim=1).numpy()\n",
    "            batch_accuracy.append( np.sum(prediction_label == y_batch.numpy())/x_batch.shape[0]) \n",
    "            losses_SGD.append(loss.detach())\n",
    "            n+=1\n",
    "\n",
    "        # Validation loop\n",
    "        validate_batch_loss = [] # keep a list of losses for different validate batches in this epoch\n",
    "        validate_batch_accuracy = [] # same for the accuracy\n",
    "        for x_batch, y_batch in validate_dataloader:\n",
    "            # pass input data to get the prediction outputs by the current model\n",
    "            prediction_score = mymodel(x_batch)\n",
    "\n",
    "            # compare prediction and the actual output and compute the loss\n",
    "            loss = loss_fun(prediction_score,y_batch)\n",
    "\n",
    "            # append the loss of this batch to the validate_batch_loss list\n",
    "            validate_batch_loss.append(loss.detach())\n",
    "\n",
    "            # You can also compute other metrics (like accuracy) for this batch here\n",
    "            prediction_label = torch.argmax(prediction_score.detach(),dim=1).numpy()\n",
    "            validate_batch_accuracy.append( np.sum(prediction_label == y_batch.numpy())/x_batch.shape[0]) \n",
    "\n",
    "\n",
    "        # calculate the average train loss and validate loss in this epoch and record them\n",
    "        losses.append(np.mean(np.array(batch_loss)))\n",
    "        validate_losses.append( np.mean(np.array(validate_batch_loss)))\n",
    "        # You can also compute other metrics for this epoch here\n",
    "        accuracies.append(np.mean(np.array(batch_accuracy)))\n",
    "        validate_accuracies.append(np.mean(np.array(validate_batch_accuracy)))\n",
    "\n",
    "        # Printing\n",
    "        print(f\"Epoch = {epoch},train_loss={losses[-1]},validate_loss={validate_losses[-1]}\")\n",
    "        print(f\"Train accuracy = {np.round(accuracies[-1]*100,2)}%, validate accuracy = {np.round(validate_accuracies[-1]*100,2)}% \")\n",
    "\n",
    "        # If the validate metric of this epoch is the best so far, save the model\n",
    "        if validate_accuracies[-1]>current_best_accuracy:\n",
    "            print(\"Current epoch is the best so far. Saving model...\") \n",
    "            torch.save(mymodel.state_dict(),'current_best_model')\n",
    "            current_best_accuracy = validate_accuracies[-1]\n",
    "    return current_best_accuracy,  losses_SGD, losses, validate_losses, accuracies, validate_accuracies, N_epochs, n\n",
    "\n",
    "\n"
   ]
  },
  {
   "cell_type": "code",
   "execution_count": null,
   "id": "368fedfb",
   "metadata": {},
   "outputs": [],
   "source": []
  },
  {
   "cell_type": "markdown",
   "id": "572c299b",
   "metadata": {},
   "source": [
    "Original parameters:\n",
    "#lr = .005\n",
    "#batch_size = 64\n",
    "#N_epochs = 10\n",
    "\n",
    "I will start by tuning the learning rate to see the result. My first try is to increase the learning rate to 0.05 and I find that my best accuracy is 74.46% and there is a lot of randomness. Nextly, I try to decrease the learning rate to 0.001 which improves accuracy and reduces randomness a lot. Finally, I try to decrease my batch size to 32 and also decrease my learning rate to 0.0005 attempting to further enhances accuracy while maintaining stable randomness. As a result, my accuracy increases to 79.5%. Please read through my code below."
   ]
  },
  {
   "cell_type": "code",
   "execution_count": 21,
   "id": "6842e0b4",
   "metadata": {},
   "outputs": [
    {
     "name": "stdout",
     "output_type": "stream",
     "text": [
      "Epoch = 0,train_loss=0.11036339402198792,validate_loss=1.7064591646194458\n",
      "Train accuracy = 96.86%, validate accuracy = 71.7% \n",
      "Current epoch is the best so far. Saving model...\n",
      "Epoch = 1,train_loss=0.21846455335617065,validate_loss=2.0540778636932373\n",
      "Train accuracy = 92.75%, validate accuracy = 64.21% \n",
      "Epoch = 2,train_loss=0.22281178832054138,validate_loss=2.348375082015991\n",
      "Train accuracy = 92.49%, validate accuracy = 71.55% \n",
      "Epoch = 3,train_loss=0.1723930686712265,validate_loss=2.557326316833496\n",
      "Train accuracy = 93.82%, validate accuracy = 70.9% \n",
      "Epoch = 4,train_loss=0.15981385111808777,validate_loss=3.632873296737671\n",
      "Train accuracy = 94.63%, validate accuracy = 74.46% \n",
      "Current epoch is the best so far. Saving model...\n",
      "Epoch = 5,train_loss=0.16018766164779663,validate_loss=3.742250919342041\n",
      "Train accuracy = 94.44%, validate accuracy = 73.98% \n",
      "Epoch = 6,train_loss=0.15039809048175812,validate_loss=4.391879558563232\n",
      "Train accuracy = 94.57%, validate accuracy = 73.42% \n",
      "Epoch = 7,train_loss=0.17476804554462433,validate_loss=5.837887287139893\n",
      "Train accuracy = 93.97%, validate accuracy = 64.56% \n",
      "Epoch = 8,train_loss=0.37929806113243103,validate_loss=2.960407257080078\n",
      "Train accuracy = 88.71%, validate accuracy = 64.5% \n",
      "Epoch = 9,train_loss=0.36724045872688293,validate_loss=6.9834136962890625\n",
      "Train accuracy = 88.66%, validate accuracy = 64.6% \n"
     ]
    }
   ],
   "source": [
    "# Try to increase lr\n",
    "acc1, losses_SGD1, losses1, validate_losses1, accuracies1, validate_accuracies1, N_epochs1, n1 = training(0.05,64,10)"
   ]
  },
  {
   "cell_type": "code",
   "execution_count": 22,
   "id": "86e46156",
   "metadata": {},
   "outputs": [
    {
     "name": "stdout",
     "output_type": "stream",
     "text": [
      "Best Accuracy 0.7445596246973366\n"
     ]
    },
    {
     "data": {
      "image/png": "[encoded data removed]",
      "text/plain": [
       "<Figure size 432x288 with 1 Axes>"
      ]
     },
     "metadata": {
      "needs_background": "light"
     },
     "output_type": "display_data"
    },
    {
     "data": {
      "text/plain": [
       "<matplotlib.legend.Legend at 0x7fa126ad3dc0>"
      ]
     },
     "execution_count": 22,
     "metadata": {},
     "output_type": "execute_result"
    },
    {
     "data": {
      "image/png": "[encoded data removed]",
      "text/plain": [
       "<Figure size 432x288 with 2 Axes>"
      ]
     },
     "metadata": {
      "needs_background": "light"
     },
     "output_type": "display_data"
    }
   ],
   "source": [
    "print('Best Accuracy',acc1)\n",
    "\n",
    "losses_SGD_overall = []\n",
    "for i in losses_SGD1:\n",
    "    losses_SGD_overall.append(i.item())\n",
    "plt.plot(range(n1),losses_SGD_overall,label='Validate Loss')\n",
    "plt.xlabel(\"SGD iteration\")\n",
    "plt.ylabel(\"Loss\")\n",
    "plt.show()\n",
    "\n",
    "fig,axes = plt.subplots(nrows=1,ncols=2)\n",
    "axes[0].plot(range(N_epochs1),losses1,label='Train Loss')\n",
    "axes[0].plot(range(N_epochs1),validate_losses1,label='Validate Loss')\n",
    "axes[0].set_xlabel(\"Epochs\")\n",
    "axes[0].set_ylabel(\"Loss\")\n",
    "axes[0].legend()\n",
    "\n",
    "axes[1].plot(range(N_epochs1),accuracies1,label='Train Accuracy')\n",
    "axes[1].plot(range(N_epochs1),validate_accuracies1,label='Validate Accuracy')\n",
    "axes[1].set_xlabel(\"Epochs\")\n",
    "axes[1].set_ylabel(\"Accuracy\")\n",
    "axes[1].legend()"
   ]
  },
  {
   "cell_type": "code",
   "execution_count": 23,
   "id": "ab25fcbc",
   "metadata": {},
   "outputs": [
    {
     "name": "stdout",
     "output_type": "stream",
     "text": [
      "Epoch = 0,train_loss=0.12215909361839294,validate_loss=1.6932963132858276\n",
      "Train accuracy = 95.79%, validate accuracy = 76.6% \n",
      "Current epoch is the best so far. Saving model...\n",
      "Epoch = 1,train_loss=0.033739179372787476,validate_loss=2.178602933883667\n",
      "Train accuracy = 98.93%, validate accuracy = 76.25% \n",
      "Epoch = 2,train_loss=0.027299117296934128,validate_loss=2.3580102920532227\n",
      "Train accuracy = 99.11%, validate accuracy = 77.89% \n",
      "Current epoch is the best so far. Saving model...\n",
      "Epoch = 3,train_loss=0.023920925334095955,validate_loss=2.776005744934082\n",
      "Train accuracy = 99.23%, validate accuracy = 76.08% \n",
      "Epoch = 4,train_loss=0.022758986800909042,validate_loss=2.7806150913238525\n",
      "Train accuracy = 99.27%, validate accuracy = 78.56% \n",
      "Current epoch is the best so far. Saving model...\n",
      "Epoch = 5,train_loss=0.020929811522364616,validate_loss=3.132411003112793\n",
      "Train accuracy = 99.32%, validate accuracy = 76.7% \n",
      "Epoch = 6,train_loss=0.019944552332162857,validate_loss=3.200164318084717\n",
      "Train accuracy = 99.34%, validate accuracy = 75.44% \n",
      "Epoch = 7,train_loss=0.019177591428160667,validate_loss=3.0634779930114746\n",
      "Train accuracy = 99.39%, validate accuracy = 76.31% \n",
      "Epoch = 8,train_loss=0.017980322241783142,validate_loss=2.869422435760498\n",
      "Train accuracy = 99.42%, validate accuracy = 78.1% \n",
      "Epoch = 9,train_loss=0.017233630642294884,validate_loss=2.9335474967956543\n",
      "Train accuracy = 99.46%, validate accuracy = 78.02% \n",
      "Epoch = 10,train_loss=0.01680207997560501,validate_loss=3.5190906524658203\n",
      "Train accuracy = 99.48%, validate accuracy = 76.51% \n",
      "Epoch = 11,train_loss=0.015697792172431946,validate_loss=3.4333558082580566\n",
      "Train accuracy = 99.5%, validate accuracy = 76.63% \n"
     ]
    }
   ],
   "source": [
    "# Since there are a lot of randomness, we try to decrease lr\n",
    "acc2, losses_SGD2, losses2, validate_losses2, accuracies2, validate_accuracies2, N_epochs2, n2 = training(0.001,64,12)"
   ]
  },
  {
   "cell_type": "code",
   "execution_count": 24,
   "id": "96b8633c",
   "metadata": {},
   "outputs": [
    {
     "name": "stdout",
     "output_type": "stream",
     "text": [
      "Best Accuracy 0.7856386198547216\n"
     ]
    },
    {
     "data": {
      "image/png": "[encoded data removed]",
      "text/plain": [
       "<Figure size 432x288 with 1 Axes>"
      ]
     },
     "metadata": {
      "needs_background": "light"
     },
     "output_type": "display_data"
    },
    {
     "data": {
      "text/plain": [
       "<matplotlib.legend.Legend at 0x7fa127951f40>"
      ]
     },
     "execution_count": 24,
     "metadata": {},
     "output_type": "execute_result"
    },
    {
     "data": {
      "image/png": "[encoded data removed]",
      "text/plain": [
       "<Figure size 432x288 with 2 Axes>"
      ]
     },
     "metadata": {
      "needs_background": "light"
     },
     "output_type": "display_data"
    }
   ],
   "source": [
    "print('Best Accuracy',acc2)\n",
    "\n",
    "losses_SGD_overall = []\n",
    "for i in losses_SGD2:\n",
    "    losses_SGD_overall.append(i.item())\n",
    "plt.plot(range(n2),losses_SGD_overall,label='Validate Loss')\n",
    "plt.xlabel(\"SGD iteration\")\n",
    "plt.ylabel(\"Loss\")\n",
    "plt.show()\n",
    "\n",
    "\n",
    "\n",
    "fig,axes = plt.subplots(nrows=1,ncols=2)\n",
    "axes[0].plot(range(N_epochs2),losses2,label='Train Loss')\n",
    "axes[0].plot(range(N_epochs2),validate_losses2,label='Validate Loss')\n",
    "axes[0].set_xlabel(\"Epochs\")\n",
    "axes[0].set_ylabel(\"Loss\")\n",
    "axes[0].legend()\n",
    "\n",
    "axes[1].plot(range(N_epochs2),accuracies2,label='Train Accuracy')\n",
    "axes[1].plot(range(N_epochs2),validate_accuracies2,label='Validate Accuracy')\n",
    "axes[1].set_xlabel(\"Epochs\")\n",
    "axes[1].set_ylabel(\"Accuracy\")\n",
    "axes[1].legend()"
   ]
  },
  {
   "cell_type": "code",
   "execution_count": 31,
   "id": "15b0c963",
   "metadata": {},
   "outputs": [
    {
     "name": "stdout",
     "output_type": "stream",
     "text": [
      "Epoch = 0,train_loss=0.1343475580215454,validate_loss=1.8031750917434692\n",
      "Train accuracy = 95.46%, validate accuracy = 73.29% \n",
      "Current epoch is the best so far. Saving model...\n",
      "Epoch = 1,train_loss=0.03675466030836105,validate_loss=1.7841753959655762\n",
      "Train accuracy = 98.79%, validate accuracy = 78.85% \n",
      "Current epoch is the best so far. Saving model...\n",
      "Epoch = 2,train_loss=0.028471264988183975,validate_loss=1.9530029296875\n",
      "Train accuracy = 99.05%, validate accuracy = 79.5% \n",
      "Current epoch is the best so far. Saving model...\n",
      "Epoch = 3,train_loss=0.025889761745929718,validate_loss=2.314561367034912\n",
      "Train accuracy = 99.13%, validate accuracy = 77.32% \n",
      "Epoch = 4,train_loss=0.023364931344985962,validate_loss=2.4159438610076904\n",
      "Train accuracy = 99.25%, validate accuracy = 77.88% \n",
      "Epoch = 5,train_loss=0.02272377908229828,validate_loss=2.5073180198669434\n",
      "Train accuracy = 99.3%, validate accuracy = 75.98% \n",
      "Epoch = 6,train_loss=0.02112659066915512,validate_loss=2.6141552925109863\n",
      "Train accuracy = 99.33%, validate accuracy = 78.02% \n",
      "Epoch = 7,train_loss=0.02000328339636326,validate_loss=2.7794535160064697\n",
      "Train accuracy = 99.35%, validate accuracy = 76.4% \n",
      "Epoch = 8,train_loss=0.019448107108473778,validate_loss=2.7314512729644775\n",
      "Train accuracy = 99.38%, validate accuracy = 75.87% \n",
      "Epoch = 9,train_loss=0.01863284967839718,validate_loss=2.752472162246704\n",
      "Train accuracy = 99.43%, validate accuracy = 77.8% \n",
      "Epoch = 10,train_loss=0.018306171521544456,validate_loss=2.84224009513855\n",
      "Train accuracy = 99.44%, validate accuracy = 77.0% \n",
      "Epoch = 11,train_loss=0.017554711550474167,validate_loss=2.9018139839172363\n",
      "Train accuracy = 99.47%, validate accuracy = 78.87% \n"
     ]
    }
   ],
   "source": [
    "acc3, losses_SGD3, losses3, validate_losses3, accuracies3, validate_accuracies3, N_epochs3, n3 = training(0.0005,32,12)"
   ]
  },
  {
   "cell_type": "code",
   "execution_count": 32,
   "id": "9cdbe3ed",
   "metadata": {},
   "outputs": [
    {
     "name": "stdout",
     "output_type": "stream",
     "text": [
      "Best Accuracy 0.795021186440678\n"
     ]
    },
    {
     "data": {
      "image/png": "[encoded data removed]",
      "text/plain": [
       "<Figure size 432x288 with 1 Axes>"
      ]
     },
     "metadata": {
      "needs_background": "light"
     },
     "output_type": "display_data"
    },
    {
     "data": {
      "text/plain": [
       "<matplotlib.legend.Legend at 0x7fa126ca8400>"
      ]
     },
     "execution_count": 32,
     "metadata": {},
     "output_type": "execute_result"
    },
    {
     "data": {
      "image/png": "[encoded data removed]",
      "text/plain": [
       "<Figure size 432x288 with 2 Axes>"
      ]
     },
     "metadata": {
      "needs_background": "light"
     },
     "output_type": "display_data"
    }
   ],
   "source": [
    "print('Best Accuracy',acc3)\n",
    "\n",
    "losses_SGD_overall = []\n",
    "for i in losses_SGD3:\n",
    "    losses_SGD_overall.append(i.item())\n",
    "plt.plot(range(n3),losses_SGD_overall,label='Validate Loss')\n",
    "plt.xlabel(\"SGD iteration\")\n",
    "plt.ylabel(\"Loss\")\n",
    "plt.show()\n",
    "\n",
    "\n",
    "\n",
    "fig,axes = plt.subplots(nrows=1,ncols=2)\n",
    "axes[0].plot(range(N_epochs3),losses3,label='Train Loss')\n",
    "axes[0].plot(range(N_epochs3),validate_losses3,label='Validate Loss')\n",
    "axes[0].set_xlabel(\"Epochs\")\n",
    "axes[0].set_ylabel(\"Loss\")\n",
    "axes[0].legend()\n",
    "\n",
    "axes[1].plot(range(N_epochs3),accuracies3,label='Train Accuracy')\n",
    "axes[1].plot(range(N_epochs3),validate_accuracies3,label='Validate Accuracy')\n",
    "axes[1].set_xlabel(\"Epochs\")\n",
    "axes[1].set_ylabel(\"Accuracy\")\n",
    "axes[1].legend()"
   ]
  },
  {
   "cell_type": "markdown",
   "id": "8841bf01",
   "metadata": {},
   "source": [
    "# Q5"
   ]
  },
  {
   "cell_type": "code",
   "execution_count": 33,
   "id": "e86a5099",
   "metadata": {},
   "outputs": [
    {
     "name": "stdout",
     "output_type": "stream",
     "text": [
      "Test accuracy = 80.29%\n"
     ]
    }
   ],
   "source": [
    "# create a new model with the same input-output dimension as before\n",
    "mybestmodel = myMultiLayerPerceptron(x_train.shape[1],5)\n",
    "\n",
    "# load the \"state_dict\" from file into the new model\n",
    "mybestmodel.load_state_dict(torch.load(\"current_best_model\"))\n",
    "\n",
    "# conduct testing via a test loop\n",
    "test_dataloader = DataLoader(test_dataset,batch_size = batch_size,shuffle = True)\n",
    "test_batch_accuracy = []\n",
    "for x_batch, y_batch in test_dataloader:\n",
    "    # pass input data to get the prediction outputs \n",
    "    prediction_score = mybestmodel(x_batch)\n",
    "\n",
    "    # Compute metrics (like accuracy) for this batch here\n",
    "    prediction_label = torch.argmax(prediction_score.detach(),dim=1).numpy()\n",
    "    test_batch_accuracy.append( np.sum(prediction_label == y_batch.numpy())/x_batch.shape[0]) \n",
    "\n",
    "# compute the mean accuracy across all batches\n",
    "test_accuracy = np.mean(np.array(test_batch_accuracy))\n",
    "\n",
    "print(f\"Test accuracy = {np.round(test_accuracy*100,2)}%\")"
   ]
  },
  {
   "cell_type": "code",
   "execution_count": null,
   "id": "4f23aa9e",
   "metadata": {},
   "outputs": [],
   "source": []
  },
  {
   "cell_type": "code",
   "execution_count": null,
   "id": "4c915c1e",
   "metadata": {},
   "outputs": [],
   "source": []
  },
  {
   "cell_type": "code",
   "execution_count": null,
   "id": "29ccad42",
   "metadata": {},
   "outputs": [],
   "source": []
  },
  {
   "cell_type": "code",
   "execution_count": null,
   "id": "6124e6e8",
   "metadata": {},
   "outputs": [],
   "source": []
  },
  {
   "cell_type": "code",
   "execution_count": null,
   "id": "cf5b1002",
   "metadata": {},
   "outputs": [],
   "source": []
  },
  {
   "cell_type": "code",
   "execution_count": null,
   "id": "0a883995",
   "metadata": {},
   "outputs": [],
   "source": []
  }
 ],
 "metadata": {
  "kernelspec": {
   "display_name": "Python 3 (ipykernel)",
   "language": "python",
   "name": "python3"
  },
  "language_info": {
   "codemirror_mode": {
    "name": "ipython",
    "version": 3
   },
   "file_extension": ".py",
   "mimetype": "text/x-python",
   "name": "python",
   "nbconvert_exporter": "python",
   "pygments_lexer": "ipython3",
   "version": "3.9.7"
  }
 },
 "nbformat": 4,
 "nbformat_minor": 5
}
